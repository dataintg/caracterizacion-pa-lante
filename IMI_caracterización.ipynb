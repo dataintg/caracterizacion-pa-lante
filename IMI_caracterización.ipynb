{
  "cells": [
    {
      "cell_type": "markdown",
      "metadata": {
        "id": "SzU7GmYYOqhV"
      },
      "source": [
        "# **Calculo IMI**\n"
      ]
    },
    {
      "cell_type": "markdown",
      "metadata": {
        "id": "_mj_NgbQO4nj"
      },
      "source": [
        "## **Carga de datos**"
      ]
    },
    {
      "cell_type": "code",
      "execution_count": null,
      "metadata": {
        "colab": {
          "base_uri": "https://localhost:8080/"
        },
        "id": "5hB2bM7COx-6",
        "outputId": "5d969c4e-7b6f-4063-f1f1-cf9ceb758691"
      },
      "outputs": [
        {
          "output_type": "stream",
          "name": "stdout",
          "text": [
            "   id_hogar  id_vivienda              E1P0                       E2P1  \\\n",
            "0        44           46  Ciudadela de Paz  Propia, totalmente pagada   \n",
            "1        45           47  Ciudadela de Paz  Propia, totalmente pagada   \n",
            "2        46           52               NaN        Posesión sin título   \n",
            "3        47           53  Ciudadela de Paz  Propia, totalmente pagada   \n",
            "4        49           54  Ciudadela de Paz  Propia, totalmente pagada   \n",
            "\n",
            "   HOG_OBJ  CANT_INDIV_OBJ  POB_MON  POB_MON_EXTR  ING_PER_CAPITA   IPM  ...  \\\n",
            "0        0               0        1             1    75000.000000  0.14  ...   \n",
            "1        0               0        1             1   150000.000000  0.14  ...   \n",
            "2        0               0        0             0   400000.000000  0.29  ...   \n",
            "3        0               0        0             0   533333.333333  0.14  ...   \n",
            "4        0               0        1             0   266666.666667  0.30  ...   \n",
            "\n",
            "   IMI_SATIS_ID2  IMI_SATIS_ID3  IMI_SATIS_ID5  IMI_ML_TGP  IMI_ML_D  \\\n",
            "0            5.0       8.000000       5.500000    0.500000       0.0   \n",
            "1            7.0       8.500000       8.500000    0.500000       0.5   \n",
            "2            4.2       7.800000       2.000000    0.400000       0.0   \n",
            "3            8.0       9.333333       6.666667    0.666667       0.0   \n",
            "4            6.5       9.000000       5.500000    0.500000       0.0   \n",
            "\n",
            "   IMI_ML_PILA  IMI_ML_OI  IMI_P-CIUD_ID1  IMI_SATIS_ID1  IMI_STANFORD  \n",
            "0     0.000000   0.500000             0.5            9.5          76.0  \n",
            "1     0.000000   0.000000             0.0            8.5          76.0  \n",
            "2     0.200000   0.200000             0.0            8.8          76.0  \n",
            "3     0.333333   0.666667             0.0            7.0          76.0  \n",
            "4     0.000000   0.500000             0.0            8.5          76.0  \n",
            "\n",
            "[5 rows x 30 columns]\n"
          ]
        }
      ],
      "source": [
        "import pandas as pd\n",
        "\n",
        "# Ruta del archivo de Excel que contiene los datos\n",
        "file_path = '/content/BD Depurada.xlsx'\n",
        "\n",
        "# Cargar la hoja \"BD IMI\"\n",
        "df = pd.read_excel(file_path, sheet_name='BD IMI')\n",
        "\n",
        "# Mostrar las primeras filas para verificar la carga\n",
        "print(df.head())\n"
      ]
    },
    {
      "cell_type": "code",
      "execution_count": null,
      "metadata": {
        "id": "Fwfjv2vBP3xA"
      },
      "outputs": [],
      "source": [
        "from sklearn.preprocessing import MinMaxScaler\n",
        "\n",
        "# List of variables to normalize\n",
        "variables_to_normalize = ['POB_MON', 'POB_MON_EXTR', 'ING_PER_CAPITA', 'IPM', 'DEF_CUALI_VIV_2', 'DEF_CUANT_VIV', 'PM_S_ID2', 'IMI_S_ID2', 'IMI_S_ID3', 'IMI_S_ID4',\n",
        "                          'PM_EDU_ID1', 'PM_NNA_ID1', 'PM_NNA_ID2', 'IMI_SATIS_ID3', 'IMI_SATIS_ID5', 'IMI_SATIS_ID2', 'IMI_ML_TGP', 'IMI_ML_D', 'PM_S_ID1', 'IMI_ML_PILA',\n",
        "                          'IMI_ML_OI', 'IMI_P-CIUD_ID1', 'IMI_SATIS_ID1', 'IMI_STANFORD']\n",
        "\n",
        "# Normalize using Min-Max scaler\n",
        "scaler = MinMaxScaler()\n",
        "df_normalized = df.copy()\n",
        "df_normalized[variables_to_normalize] = scaler.fit_transform(df[variables_to_normalize])\n"
      ]
    },
    {
      "cell_type": "markdown",
      "metadata": {
        "id": "nuRaDNYFQnEG"
      },
      "source": [
        "### **Explicación**\n",
        "\n",
        "\n",
        "*   Paso 1: Importamos MinMaxScaler de sklearn.preprocessing para normalizar las variables.\n",
        "*  Paso 2: Definimos las variables que queremos normalizar en la lista variables_a_normalizar.\n",
        "Creamos una copia del DataFrame original (df_normalized) para preservar los datos originales.\n",
        "Aplicamos fit_transform del MinMaxScaler a las columnas seleccionadas para normalizarlas.\n",
        "Finalmente, mostramos las primeras filas del DataFrame normalizado para verificar los resultados.\n",
        "Este código aborda las primeras dos partes del script original, cargando los datos desde Excel y normalizando las variables utilizando Min-Max. Si necesitas ajustar las variables a normalizar o tienes algún otro requerimiento específico, házmelo saber para poder ayudarte mejor."
      ]
    },
    {
      "cell_type": "markdown",
      "metadata": {
        "id": "PWqOTWzpS6xh"
      },
      "source": [
        "## **Paso 3: Cálculo del Índice de Medición Integral (IMI)**"
      ]
    },
    {
      "cell_type": "markdown",
      "metadata": {
        "id": "KoqdQc4-S-Bx"
      },
      "source": [
        "Según el script original de Stata, el IMI se calcula utilizando varias variables normalizadas ponderadas por coeficientes específicos. Vamos a replicar este cálculo en Python."
      ]
    },
    {
      "cell_type": "code",
      "execution_count": null,
      "metadata": {
        "id": "uaTPmmcnTGHb"
      },
      "outputs": [],
      "source": [
        "from sklearn.decomposition import PCA\n",
        "\n",
        "# List of variables for PCA\n",
        "pca_variables = ['POB_MON', 'POB_MON_EXTR', 'ING_PER_CAPITA', 'IPM', 'DEF_CUALI_VIV_2', 'DEF_CUANT_VIV', 'PM_S_ID2', 'IMI_S_ID2', 'IMI_S_ID3',\n",
        "                 'IMI_S_ID4', 'PM_EDU_ID1', 'PM_NNA_ID1', 'PM_NNA_ID2', 'IMI_SATIS_ID3', 'IMI_SATIS_ID5', 'IMI_SATIS_ID2', 'IMI_ML_TGP', 'IMI_ML_D',\n",
        "                 'PM_S_ID1', 'IMI_ML_PILA', 'IMI_ML_OI', 'IMI_SATIS_ID1', 'IMI_STANFORD', 'IMI_P-CIUD_ID1' ] # Include all normalized variables\n",
        "\n",
        "# Perform PCA\n",
        "pca = PCA(n_components=11)  # Adjust the number of components as needed\n",
        "df_pca = pca.fit_transform(df_normalized[pca_variables])\n",
        "\n"
      ]
    },
    {
      "cell_type": "code",
      "execution_count": null,
      "metadata": {
        "id": "n8Fp-wdyRgjt"
      },
      "outputs": [],
      "source": [
        "import numpy as np\n",
        "from scipy.stats import ttest_ind\n",
        "from scipy.linalg import svd\n",
        "def varimax_rotation(components, gamma=1.0, q=20, tol=1e-6):\n",
        "    \"\"\"\n",
        "    Perform Varimax rotation on PCA components.\n",
        "    \"\"\"\n",
        "    p, k = components.shape\n",
        "    R = np.eye(k)\n",
        "    d = 0\n",
        "    for i in range(q):\n",
        "        old_d = d\n",
        "        components_rotated = np.dot(components, R)\n",
        "        lambdas = np.dot(components.T, (components_rotated ** 3 - (gamma / p) * np.dot(components_rotated, np.diag(np.sum(components_rotated ** 2, axis=0)))))\n",
        "        u, s, v = svd(lambdas)\n",
        "        R = np.dot(u, v)\n",
        "        d = np.sum(s)\n",
        "        if d - old_d < tol:\n",
        "            break\n",
        "    return np.dot(components, R), R\n",
        "\n",
        "# Example usage\n",
        "# rotated_components, rotation_matrix = varimax_rotation(pca.components_.T)\n"
      ]
    },
    {
      "cell_type": "code",
      "execution_count": null,
      "metadata": {
        "id": "3hRgXqPqWnyk"
      },
      "outputs": [],
      "source": [
        "from sklearn.decomposition import PCA\n",
        "\n",
        "# List of variables for PCA\n",
        "pca_variables = ['POB_MON', 'POB_MON_EXTR', 'ING_PER_CAPITA', 'IPM', 'DEF_CUALI_VIV_2', 'DEF_CUANT_VIV', 'PM_S_ID2', 'IMI_S_ID2', 'IMI_S_ID3',\n",
        "                 'IMI_S_ID4', 'PM_EDU_ID1', 'PM_NNA_ID1', 'PM_NNA_ID2', 'IMI_SATIS_ID3', 'IMI_SATIS_ID5', 'IMI_SATIS_ID2', 'IMI_ML_TGP', 'IMI_ML_D',\n",
        "                 'PM_S_ID1', 'IMI_ML_PILA', 'IMI_ML_OI', 'IMI_SATIS_ID1', 'IMI_STANFORD', 'IMI_P-CIUD_ID1' ] # Include all normalized variables\n",
        "\n",
        "# Perform PCA\n",
        "pca = PCA(n_components=11)  # Adjust the number of components as needed\n",
        "df_pca = pca.fit_transform(df_normalized[pca_variables])\n",
        "\n",
        "\n",
        "import numpy as np\n",
        "from scipy.stats import ttest_ind\n",
        "from scipy.linalg import svd\n",
        "def varimax_rotation(components, gamma=1.0, q=20, tol=1e-6):\n",
        "    \"\"\"\n",
        "    Perform Varimax rotation on PCA components.\n",
        "    \"\"\"\n",
        "    p, k = components.shape\n",
        "    R = np.eye(k)\n",
        "    d = 0\n",
        "    for i in range(q):\n",
        "        old_d = d\n",
        "        components_rotated = np.dot(components, R)\n",
        "        lambdas = np.dot(components.T, (components_rotated ** 3 - (gamma / p) * np.dot(components_rotated, np.diag(np.sum(components_rotated ** 2, axis=0)))))\n",
        "        u, s, v = svd(lambdas)\n",
        "        R = np.dot(u, v)\n",
        "        d = np.sum(s)\n",
        "        if d - old_d < tol:\n",
        "            break\n",
        "    return np.dot(components, R), R\n",
        "\n",
        "# Example usage\n",
        "# rotated_components, rotation_matrix = varimax_rotation(pca.components_.T)\n",
        "\n",
        "import pandas as pd\n",
        "from sklearn.preprocessing import MinMaxScaler\n",
        "from sklearn.decomposition import PCA\n",
        "from scipy.stats import ttest_ind\n",
        "\n",
        "# Cargar datos desde Excel\n",
        "file_path = r'/content/BD Depurada.xlsx'\n",
        "sheet_name = 'BD IMI'\n",
        "df = pd.read_excel(file_path, sheet_name=sheet_name)\n",
        "\n",
        "# Lista de variables a normalizar\n",
        "variables_to_normalize =  ['POB_MON', 'POB_MON_EXTR', 'ING_PER_CAPITA', 'IPM', 'DEF_CUALI_VIV_2', 'DEF_CUANT_VIV', 'PM_S_ID2', 'IMI_S_ID2', 'IMI_S_ID3',\n",
        "                 'IMI_S_ID4', 'PM_EDU_ID1', 'PM_NNA_ID1', 'PM_NNA_ID2', 'IMI_SATIS_ID3', 'IMI_SATIS_ID5', 'IMI_SATIS_ID2', 'IMI_ML_TGP', 'IMI_ML_D',\n",
        "                 'PM_S_ID1', 'IMI_ML_PILA', 'IMI_ML_OI', 'IMI_SATIS_ID1', 'IMI_STANFORD' ]\n",
        "# Normalizar usando Min-Max scaler\n",
        "scaler = MinMaxScaler()\n",
        "df_normalized = df.copy()\n",
        "df_normalized[variables_to_normalize] = scaler.fit_transform(df[variables_to_normalize])\n",
        "\n",
        "# Realizar PCA\n",
        "pca = PCA(n_components=11)  # Ajusta el número de componentes según sea necesario\n",
        "df_pca = pca.fit_transform(df_normalized[variables_to_normalize])\n",
        "\n",
        "# Rotación Varimax\n",
        "rotated_components, rotation_matrix = varimax_rotation(pca.components_.T)\n",
        "\n",
        "# Crear DataFrame para componentes rotados\n",
        "df_rotated = pd.DataFrame(df_pca @ rotation_matrix.T, columns=[f'PC{i+1}' for i in range(rotation_matrix.shape[0])])\n",
        "\n",
        "# Calcular índices ponderados\n",
        "df['IMI_1_1'] = (df_normalized['POB_MON'] * 0.051) + (df_normalized['POB_MON_EXTR'] * 0.039) + (df_normalized['IPM'] * 0.020) + (df_normalized['ING_PER_CAPITA'] * 0.054)\n",
        "df['IMI_1_2'] = (df_normalized['DEF_CUALI_VIV_2'] * 0.029) + (df_normalized['DEF_CUANT_VIV'] * 0.058)\n",
        "df['IMI_1_3'] = (df_normalized['PM_S_ID2'] * 0.061) + (df_normalized['IMI_S_ID2'] * 0.029) + (df_normalized['IMI_S_ID3'] * 0.058) + (df_normalized['IMI_S_ID4'] * 0.038)\n",
        "df['IMI_1_4'] = (df_normalized['PM_EDU_ID1'] * 0.032) + (df_normalized['PM_NNA_ID1'] * 0.032) + (df_normalized['PM_NNA_ID2'] * 0.037)\n",
        "\n",
        "df['IMI_1'] = df['IMI_1_1'] + df['IMI_1_2'] + df['IMI_1_3'] + df['IMI_1_4']\n",
        "\n",
        "df['IMI_2_1'] = (df_normalized['IMI_SATIS_ID3'] * 0.027) + (df_normalized['IMI_SATIS_ID5'] * 0.052) + (df_normalized['IMI_SATIS_ID2'] * 0.044)\n",
        "df['IMI_2_2'] = (df_normalized['IMI_ML_TGP'] * 0.033) + (df_normalized['IMI_ML_D'] * 0.056) + (df_normalized['PM_S_ID1'] * 0.046) + (df_normalized['IMI_ML_PILA'] * 0.036) + (df_normalized['IMI_ML_OI'] * 0.046)\n",
        "\n",
        "df['IMI_2'] = df['IMI_2_1'] + df['IMI_2_2']\n",
        "\n",
        "df['IMI_3_1'] = (df_normalized['IMI_P-CIUD_ID1'] * 0.054) + (df_normalized['IMI_SATIS_ID1'] * 0.036)\n",
        "df['IMI_3_2'] = df_normalized['IMI_STANFORD'] * 0.033\n",
        "\n",
        "df['IMI_3'] = df['IMI_3_1'] + df['IMI_3_2']\n",
        "\n",
        "df['IMI'] = df['IMI_1'] + df['IMI_2'] + df['IMI_3']\n",
        "\n",
        "# Generar variables de clasificación (CLASF_1, CLASF_2, CLASF_3)\n",
        "df['CLASF_1'] = pd.cut(df['IMI'], bins=[-float('inf'), 0.2, 0.4, 0.6, 0.8, 1.0], labels=[1, 2, 3, 4, 5])\n",
        "df['CLASF_2'] = pd.cut(df['IMI'], bins=[-float('inf'), 0.25, 0.5, 0.75, 1.0], labels=[1, 2, 3, 4])\n",
        "df['CLASF_3'] = pd.cut(df['IMI'], bins=[-float('inf'), 0.333333, 0.66666, 1.0], labels=[1, 2, 3])\n",
        "\n"
      ]
    },
    {
      "cell_type": "markdown",
      "metadata": {
        "id": "tPLg_O_wIuGS"
      },
      "source": [
        "## **Hogares priorizados de pobreza e ingreso**"
      ]
    },
    {
      "cell_type": "code",
      "source": [
        "import pandas as pd\n",
        "import numpy as np\n",
        "\n",
        "# Ruta del archivo de Excel\n",
        "file_path = '/content/BD Depurada.xlsx'\n",
        "\n",
        "# Nombre de la hoja que quieres cargar\n",
        "sheet_name = 'BD HOGARES'\n",
        "\n",
        "# Cargar el archivo de Excel y seleccionar la hoja\n",
        "df = pd.read_excel(file_path, sheet_name=sheet_name)\n",
        "\n",
        "# Filtrar los datos donde la columna IMI_C tenga el valor 'Bajo' o 'Aceptable'\n",
        "filtered_data = df[(df['IMI_C'].isin(['Bajo', 'Aceptable'])) & (df['ING_PER_CAPITA'] < 396864)].copy()\n",
        "\n",
        "# Definir las nuevas variables y sus cálculos\n",
        "def calculate_recalculated_values(row):\n",
        "    ing_per_capita = row['ING_PER_CAPITA']\n",
        "    ing_per_capita_recalculado = (396866 - ing_per_capita) + ing_per_capita\n",
        "    pob_mon_recalculado = 1 if ing_per_capita_recalculado < 396864 else 0\n",
        "    pob_mon_extr_recalculado = 1 if ing_per_capita_recalculado < 198698 else 0\n",
        "    imi = row['IMI']\n",
        "\n",
        "    # Determinar IMI_C recalculado\n",
        "    if imi <= 0.5:\n",
        "        imi_c_recalculado = \"Muy Bajo\"\n",
        "    elif imi <= 0.625:\n",
        "        imi_c_recalculado = \"Bajo\"\n",
        "    elif imi <= 0.75:\n",
        "        imi_c_recalculado = \"Aceptable\"\n",
        "    elif imi <= 0.875:\n",
        "        imi_c_recalculado = \"Alto\"\n",
        "    else:\n",
        "        imi_c_recalculado = \"Muy Alto\"\n",
        "\n",
        "    if row['IMI_C'] == 'Bajo' and pob_mon_recalculado == 0:\n",
        "        imi_c_recalculado = \"Aceptable\"\n",
        "    elif row['IMI_C'] == 'Aceptable':\n",
        "        imi_c_recalculado = \"Alto\"\n",
        "\n",
        "    return pd.Series([ing_per_capita_recalculado, pob_mon_recalculado, pob_mon_extr_recalculado, imi_c_recalculado],\n",
        "                     index=['ING_PER_CAPITA_RECALCULADO', 'POB_MON_RECALCULADO', 'POB_MON_EXTR_RECALCULADO', 'IMI_C_RECALCULADO'])\n",
        "\n",
        "# Aplicar los cálculos a cada fila\n",
        "filtered_data[['ING_PER_CAPITA_RECALCULADO', 'POB_MON_RECALCULADO', 'POB_MON_EXTR_RECALCULADO', 'IMI_C_RECALCULADO']] = filtered_data.apply(calculate_recalculated_values, axis=1)\n",
        "\n",
        "# Contar cambios de categoría\n",
        "count_bajo_to_aceptable = filtered_data[(filtered_data['IMI_C'] == 'Bajo') & (filtered_data['IMI_C_RECALCULADO'] == 'Aceptable')].shape[0]\n",
        "count_aceptable_to_alto = filtered_data[(filtered_data['IMI_C'] == 'Aceptable') & (filtered_data['IMI_C_RECALCULADO'] == 'Alto')].shape[0]\n",
        "\n",
        "# Imprimir el dataset final con las variables solicitadas\n",
        "final_dataset = filtered_data[['id_hogar', 'E1P0', 'IMI', 'IMI_C', 'POB_MON', 'POB_MON_EXTR', 'IPM', 'ING_PER_CAPITA', 'IMI_C_RECALCULADO', 'POB_MON_RECALCULADO', 'POB_MON_EXTR_RECALCULADO', 'ING_PER_CAPITA_RECALCULADO']]\n",
        "\n",
        "print(\"Número de hogares que pasaron de 'Bajo' a 'Aceptable':\", count_bajo_to_aceptable)\n",
        "print(\"Número de hogares que pasaron de 'Aceptable' a 'Alto':\", count_aceptable_to_alto)\n",
        "print(\"\\nDataset Final:\")\n",
        "print(final_dataset)\n"
      ],
      "metadata": {
        "colab": {
          "base_uri": "https://localhost:8080/"
        },
        "id": "-R2Vw_QTW-gt",
        "outputId": "a38c0322-abbb-40a2-b3da-9f0f74e023b3"
      },
      "execution_count": 46,
      "outputs": [
        {
          "output_type": "stream",
          "name": "stdout",
          "text": [
            "Número de hogares que pasaron de 'Bajo' a 'Aceptable': 396\n",
            "Número de hogares que pasaron de 'Aceptable' a 'Alto': 200\n",
            "\n",
            "Dataset Final:\n",
            "     id_hogar              E1P0       IMI      IMI_C  POB_MON  POB_MON_EXTR  \\\n",
            "0          44  Ciudadela de Paz  0.676227  Aceptable        1             1   \n",
            "1          45  Ciudadela de Paz  0.656121  Aceptable        1             1   \n",
            "4          49  Ciudadela de Paz  0.685851  Aceptable        1             0   \n",
            "6          51  Ciudadela de Paz  0.581145       Bajo        1             0   \n",
            "7          52  Ciudadela de Paz  0.599255       Bajo        1             1   \n",
            "..        ...               ...       ...        ...      ...           ...   \n",
            "843       951  Ciudadela de Paz  0.648839  Aceptable        1             0   \n",
            "845       953  Ciudadela de Paz  0.696839  Aceptable        1             0   \n",
            "846       955  Ciudadela de Paz  0.594297       Bajo        1             0   \n",
            "847       956  Ciudadela de Paz  0.660056  Aceptable        1             1   \n",
            "848       957  Ciudadela de Paz  0.629553  Aceptable        1             1   \n",
            "\n",
            "      IPM  ING_PER_CAPITA IMI_C_RECALCULADO  POB_MON_RECALCULADO  \\\n",
            "0    0.14    75000.000000              Alto                    0   \n",
            "1    0.14   150000.000000              Alto                    0   \n",
            "4    0.30   266666.666667              Alto                    0   \n",
            "6    0.41   240000.000000         Aceptable                    0   \n",
            "7    0.14        0.000000         Aceptable                    0   \n",
            "..    ...             ...               ...                  ...   \n",
            "843  0.29   333333.333333              Alto                    0   \n",
            "845  0.24   375000.000000              Alto                    0   \n",
            "846  0.35   200000.000000         Aceptable                    0   \n",
            "847  0.14    83333.333333              Alto                    0   \n",
            "848  0.29        0.000000              Alto                    0   \n",
            "\n",
            "     POB_MON_EXTR_RECALCULADO  ING_PER_CAPITA_RECALCULADO  \n",
            "0                           0                    396866.0  \n",
            "1                           0                    396866.0  \n",
            "4                           0                    396866.0  \n",
            "6                           0                    396866.0  \n",
            "7                           0                    396866.0  \n",
            "..                        ...                         ...  \n",
            "843                         0                    396866.0  \n",
            "845                         0                    396866.0  \n",
            "846                         0                    396866.0  \n",
            "847                         0                    396866.0  \n",
            "848                         0                    396866.0  \n",
            "\n",
            "[596 rows x 12 columns]\n"
          ]
        }
      ]
    },
    {
      "cell_type": "code",
      "source": [
        "# Guardar el DataFrame en un archivo Excel\n",
        "file_path = 'priorizados_ingreso.xlsx'\n",
        "final_dataset.to_excel(file_path, index=False)\n",
        "\n",
        "print(f\"DataFrame guardado en {file_path}\")"
      ],
      "metadata": {
        "colab": {
          "base_uri": "https://localhost:8080/"
        },
        "id": "mObCbzdOwPLP",
        "outputId": "ffcf93a7-2f55-47da-cd61-3b9e9ba9342b"
      },
      "execution_count": 47,
      "outputs": [
        {
          "output_type": "stream",
          "name": "stdout",
          "text": [
            "DataFrame guardado en priorizados_ingreso.xlsx\n"
          ]
        }
      ]
    },
    {
      "cell_type": "code",
      "source": [
        "import pandas as pd\n",
        "import sqlite3\n",
        "\n",
        "# Supongamos que `filtered_data` ya está definido y contiene tu DataFrame\n",
        "\n",
        "# Selecciona las columnas deseadas\n",
        "final_dataset = filtered_data[['id_hogar', 'E1P0', 'IMI', 'IMI_C', 'POB_MON', 'POB_MON_EXTR',\n",
        "                               'IPM', 'ING_PER_CAPITA', 'IMI_C_RECALCULADO', 'POB_MON_RECALCULADO',\n",
        "                               'POB_MON_EXTR_RECALCULADO', 'ING_PER_CAPITA_RECALCULADO']]\n",
        "\n",
        "# Conéctate a la base de datos SQLite\n",
        "conn = sqlite3.connect('priori_hogares.sqlite')\n",
        "\n",
        "# Carga el DataFrame en SQLite (creará una tabla llamada 'mi_tabla' si no existe)\n",
        "final_dataset.to_sql('ingresos', conn, if_exists='replace', index=False)\n",
        "\n",
        "# Cierra la conexión\n",
        "conn.close()\n"
      ],
      "metadata": {
        "id": "TuKkrx6w_2AP"
      },
      "execution_count": 29,
      "outputs": []
    },
    {
      "cell_type": "markdown",
      "metadata": {
        "id": "SF18PlYTprDu"
      },
      "source": [
        "## **Hogares priorizados en salud**"
      ]
    },
    {
      "cell_type": "code",
      "source": [
        "import pandas as pd\n",
        "import numpy as np\n",
        "\n",
        "# Ruta del archivo de Excel\n",
        "file_path = '/content/BD Depurada.xlsx'\n",
        "\n",
        "# Nombre de la hoja que quieres cargar\n",
        "sheet_name = 'BD HOGARES'\n",
        "\n",
        "# Cargar el archivo de Excel y seleccionar la hoja\n",
        "df = pd.read_excel(file_path, sheet_name=sheet_name)\n",
        "\n",
        "# Filtrar los datos donde la columna IMI_C tenga el valor 'Bajo' o 'Aceptable'\n",
        "filtered_data = df[df['IMI_C'].isin(['Bajo', 'Aceptable'])].copy()\n",
        "\n",
        "# Seleccionar las columnas de interés\n",
        "selected_columns = ['id_hogar', 'E1P0', 'IMI', 'IMI_C', 'PM_S_PRIV2', 'IMI_S_ID3', 'IMI_S_ID4']\n",
        "filtered_data = filtered_data[selected_columns]\n",
        "\n",
        "# Aplicar los filtros adicionales (usando OR)\n",
        "final_filtered_data = filtered_data[\n",
        "    (filtered_data['PM_S_PRIV2'] == 1) |\n",
        "    (filtered_data['IMI_S_ID4'] == 1) |\n",
        "    (filtered_data['IMI_S_ID3'] >= 0.5)\n",
        "]\n",
        "\n",
        "# Mostrar el resultado\n",
        "print(final_filtered_data)\n",
        "\n"
      ],
      "metadata": {
        "id": "jmXynN43YwE8",
        "colab": {
          "base_uri": "https://localhost:8080/"
        },
        "outputId": "d7742191-6092-424a-eaff-35360d9175a2"
      },
      "execution_count": 48,
      "outputs": [
        {
          "output_type": "stream",
          "name": "stdout",
          "text": [
            "     id_hogar              E1P0       IMI      IMI_C  PM_S_PRIV2  IMI_S_ID3  \\\n",
            "6          51  Ciudadela de Paz  0.581145       Bajo           0       0.75   \n",
            "14         60  Ciudadela de Paz  0.534371       Bajo           0       0.50   \n",
            "16         63  Ciudadela de Paz  0.548456       Bajo           1       0.25   \n",
            "25         74  Ciudadela de Paz  0.649045  Aceptable           1       0.25   \n",
            "27         77  Ciudadela de Paz  0.550194       Bajo           0       0.25   \n",
            "..        ...               ...       ...        ...         ...        ...   \n",
            "833       941  Ciudadela de Paz  0.578426       Bajo           0       0.25   \n",
            "834       942  Ciudadela de Paz  0.541137       Bajo           0       0.25   \n",
            "838       946  Ciudadela de Paz  0.512731       Bajo           1       0.25   \n",
            "841       949  Ciudadela de Paz  0.612568       Bajo           0       0.25   \n",
            "846       955  Ciudadela de Paz  0.594297       Bajo           0       0.25   \n",
            "\n",
            "     IMI_S_ID4  \n",
            "6          0.0  \n",
            "14         0.0  \n",
            "16         0.0  \n",
            "25         0.5  \n",
            "27         1.0  \n",
            "..         ...  \n",
            "833        1.0  \n",
            "834        1.0  \n",
            "838        0.0  \n",
            "841        1.0  \n",
            "846        1.0  \n",
            "\n",
            "[166 rows x 7 columns]\n"
          ]
        }
      ]
    },
    {
      "cell_type": "code",
      "source": [
        "# Guardar el DataFrame en un archivo Excel\n",
        "file_path = 'priorizados_salud.xlsx'\n",
        "final_filtered_data.to_excel(file_path, index=False)\n",
        "\n",
        "print(f\"DataFrame guardado en {file_path}\")"
      ],
      "metadata": {
        "colab": {
          "base_uri": "https://localhost:8080/"
        },
        "id": "Uu9sMJs25JS4",
        "outputId": "9fa7920f-5347-40de-8a6f-a331c9c10e37"
      },
      "execution_count": 49,
      "outputs": [
        {
          "output_type": "stream",
          "name": "stdout",
          "text": [
            "DataFrame guardado en priorizados_salud.xlsx\n"
          ]
        }
      ]
    },
    {
      "cell_type": "code",
      "source": [
        "import pandas as pd\n",
        "import sqlite3\n",
        "\n",
        "# Supongamos que `filtered_data` ya está definido y contiene tu DataFrame\n",
        "\n",
        "# Selecciona las columnas deseadas\n",
        "final_dataset = filtered_data[['id_hogar', 'E1P0', 'IMI', 'IMI_C', 'PM_S_PRIV2', 'IMI_S_ID3', 'IMI_S_ID4']]\n",
        "\n",
        "# Conéctate a la base de datos SQLite\n",
        "conn = sqlite3.connect('priori_hogares.sqlite')\n",
        "\n",
        "# Carga el DataFrame en SQLite (creará una tabla llamada 'mi_tabla' si no existe)\n",
        "final_dataset.to_sql('salud', conn, if_exists='replace', index=False)\n",
        "\n",
        "# Cierra la conexión\n",
        "conn.close()\n"
      ],
      "metadata": {
        "id": "I4CnaLjQFD6Y"
      },
      "execution_count": 31,
      "outputs": []
    },
    {
      "cell_type": "markdown",
      "source": [
        "## **Hogares priorizados condiciones educativas**"
      ],
      "metadata": {
        "id": "Fr7eRyZTyou1"
      }
    },
    {
      "cell_type": "code",
      "source": [
        "import pandas as pd\n",
        "import numpy as np\n",
        "\n",
        "# Ruta del archivo de Excel\n",
        "file_path = '/content/BD Depurada.xlsx'\n",
        "\n",
        "# Nombre de la hoja que quieres cargar\n",
        "sheet_name = 'BD HOGARES'\n",
        "\n",
        "# Cargar el archivo de Excel y seleccionar la hoja\n",
        "df = pd.read_excel(file_path, sheet_name=sheet_name)\n",
        "\n",
        "# Filtrar los datos donde la columna IMI_C tenga el valor 'Bajo' o 'Aceptable'\n",
        "filtered_data = df[df['IMI_C'].isin(['Bajo', 'Aceptable'])].copy()\n",
        "\n",
        "# Seleccionar las columnas de interés\n",
        "selected_columns = ['id_hogar', 'E1P0', 'IMI', 'IMI_C', 'PM_EDU_ID1', 'PM_NNA_ID1','PM_NNA_PRIV2']\n",
        "filtered_data = filtered_data[selected_columns]\n",
        "\n",
        "# Aplicar los filtros adicionales (usando OR)\n",
        "final_filtered_data = filtered_data[\n",
        "    (filtered_data['PM_NNA_PRIV2'] == 1)\n",
        "]\n",
        "\n",
        "# Mostrar el resultado\n",
        "print(final_filtered_data)\n"
      ],
      "metadata": {
        "id": "yQTqvz9zyulm",
        "colab": {
          "base_uri": "https://localhost:8080/"
        },
        "outputId": "145d8c11-0790-49f0-b597-812ccc04b957"
      },
      "execution_count": 50,
      "outputs": [
        {
          "output_type": "stream",
          "name": "stdout",
          "text": [
            "     id_hogar              E1P0       IMI      IMI_C  PM_EDU_ID1  PM_NNA_ID1  \\\n",
            "2          46               NaN  0.683094  Aceptable    4.800000         0.0   \n",
            "8          53  Ciudadela de Paz  0.594453       Bajo    2.666667         0.0   \n",
            "9          54  Ciudadela de Paz  0.603453       Bajo   14.000000         0.0   \n",
            "23         71  Ciudadela de Paz  0.642888  Aceptable   12.000000         0.0   \n",
            "28         79  Ciudadela de Paz  0.670939  Aceptable   10.000000         1.0   \n",
            "..        ...               ...       ...        ...         ...         ...   \n",
            "812       919           La Loma  0.575092       Bajo    5.333333         0.0   \n",
            "817       925  Ciudadela de Paz  0.547986       Bajo    8.000000         0.0   \n",
            "840       948  Ciudadela de Paz  0.627492  Aceptable    8.000000         0.0   \n",
            "843       951  Ciudadela de Paz  0.648839  Aceptable   10.000000         0.0   \n",
            "848       957  Ciudadela de Paz  0.629553  Aceptable    7.500000         0.0   \n",
            "\n",
            "     PM_NNA_PRIV2  \n",
            "2               1  \n",
            "8               1  \n",
            "9               1  \n",
            "23              1  \n",
            "28              1  \n",
            "..            ...  \n",
            "812             1  \n",
            "817             1  \n",
            "840             1  \n",
            "843             1  \n",
            "848             1  \n",
            "\n",
            "[135 rows x 7 columns]\n"
          ]
        }
      ]
    },
    {
      "cell_type": "code",
      "source": [
        "# Guardar el DataFrame en un archivo Excel\n",
        "file_path = 'priorizados_educación.xlsx'\n",
        "final_filtered_data.to_excel(file_path, index=False)\n",
        "\n",
        "print(f\"DataFrame guardado en {file_path}\")"
      ],
      "metadata": {
        "colab": {
          "base_uri": "https://localhost:8080/"
        },
        "id": "KJ1CNdGDI-b5",
        "outputId": "71b52a73-7533-47f9-ec00-e8f26c703dd5"
      },
      "execution_count": 51,
      "outputs": [
        {
          "output_type": "stream",
          "name": "stdout",
          "text": [
            "DataFrame guardado en priorizados_educación.xlsx\n"
          ]
        }
      ]
    },
    {
      "cell_type": "code",
      "source": [
        "import pandas as pd\n",
        "import sqlite3\n",
        "\n",
        "# Supongamos que `filtered_data` ya está definido y contiene tu DataFrame\n",
        "\n",
        "# Selecciona las columnas deseadas\n",
        "final_dataset = filtered_data[['id_hogar', 'E1P0', 'IMI', 'IMI_C', 'PM_EDU_ID1', 'PM_NNA_ID1','PM_NNA_PRIV2']]\n",
        "\n",
        "# Conéctate a la base de datos SQLite\n",
        "conn = sqlite3.connect('priori_hogares.sqlite')\n",
        "\n",
        "# Carga el DataFrame en SQLite (creará una tabla llamada 'mi_tabla' si no existe)\n",
        "final_dataset.to_sql('educacion', conn, if_exists='replace', index=False)\n",
        "\n",
        "# Cierra la conexión\n",
        "conn.close()"
      ],
      "metadata": {
        "id": "dD7P1luKG67a"
      },
      "execution_count": 33,
      "outputs": []
    },
    {
      "cell_type": "markdown",
      "source": [
        "## **Hogares caracterizados percepción de satisfaccion con la vida**"
      ],
      "metadata": {
        "id": "P3TCIDnkGgSk"
      }
    },
    {
      "cell_type": "code",
      "source": [
        "import pandas as pd\n",
        "import numpy as np\n",
        "\n",
        "# Ruta del archivo de Excel\n",
        "file_path = '/content/BD Depurada.xlsx'\n",
        "\n",
        "# Nombre de la hoja que quieres cargar\n",
        "sheet_name = 'BD HOGARES'\n",
        "\n",
        "# Cargar el archivo de Excel y seleccionar la hoja\n",
        "df = pd.read_excel(file_path, sheet_name=sheet_name)\n",
        "\n",
        "# Filtrar los datos donde la columna IMI_C tenga el valor 'Bajo' o 'Aceptable'\n",
        "filtered_data = df[df['IMI_C'].isin(['Bajo', 'Aceptable'])].copy()\n",
        "\n",
        "# Seleccionar las columnas de interés\n",
        "selected_columns = ['id_hogar', 'E1P0', 'IMI', 'IMI_C', 'IMI_SATIS_ID2', 'IMI_SATIS_ID3', 'IMI_SATIS_ID5']\n",
        "filtered_data = filtered_data[selected_columns]\n",
        "\n",
        "# Aplicar los filtros adicionales (usando OR)\n",
        "final_filtered_data = filtered_data[\n",
        "   ( (filtered_data['IMI_SATIS_ID2']  >= 5) & (filtered_data['IMI_SATIS_ID2']  <= 8) ) &\n",
        "   ( (filtered_data['IMI_SATIS_ID3']  >= 5) & (filtered_data['IMI_SATIS_ID3']  <= 8) ) &\n",
        "   ( (filtered_data['IMI_SATIS_ID5'] >= 5) & (filtered_data['IMI_SATIS_ID5'] <=8))\n",
        "]\n",
        "\n",
        "# Ordenar los datos por 'PM_S_PRIV2', 'IMI_S_ID3', y 'IMI_S_ID4' en orden descendente\n",
        "final_sorted_data = final_filtered_data.sort_values(\n",
        "    by=['IMI_SATIS_ID2', 'IMI_SATIS_ID3', 'IMI_SATIS_ID5'],\n",
        "    ascending=[False, False, False]\n",
        ")\n",
        "\n",
        "# Mostrar el resultado\n",
        "print(final_sorted_data)\n"
      ],
      "metadata": {
        "colab": {
          "base_uri": "https://localhost:8080/"
        },
        "id": "rMMExHhrI1O-",
        "outputId": "6e7bd9d0-3077-42f2-a1b9-c0e4e9ab473c"
      },
      "execution_count": 52,
      "outputs": [
        {
          "output_type": "stream",
          "name": "stdout",
          "text": [
            "     id_hogar              E1P0       IMI      IMI_C  IMI_SATIS_ID2  \\\n",
            "24         73  Ciudadela de Paz  0.740362  Aceptable            8.0   \n",
            "174       234  Ciudadela de Paz  0.565794       Bajo            8.0   \n",
            "180       241  Ciudadela de Paz  0.625412  Aceptable            8.0   \n",
            "191       253           La Loma  0.714347  Aceptable            8.0   \n",
            "246       311  Ciudadela de Paz  0.622153       Bajo            8.0   \n",
            "..        ...               ...       ...        ...            ...   \n",
            "429       496           La Loma  0.598609       Bajo            5.0   \n",
            "661       739  Ciudadela de Paz  0.574973       Bajo            5.0   \n",
            "40         92           La Loma  0.592479       Bajo            5.0   \n",
            "255       320           La Loma  0.558710       Bajo            5.0   \n",
            "814       922           La Loma  0.565124       Bajo            5.0   \n",
            "\n",
            "     IMI_SATIS_ID3  IMI_SATIS_ID5  \n",
            "24             8.0       8.000000  \n",
            "174            8.0       8.000000  \n",
            "180            8.0       8.000000  \n",
            "191            8.0       8.000000  \n",
            "246            8.0       7.666667  \n",
            "..             ...            ...  \n",
            "429            5.5       6.000000  \n",
            "661            5.0       7.000000  \n",
            "40             5.0       5.000000  \n",
            "255            5.0       5.000000  \n",
            "814            5.0       5.000000  \n",
            "\n",
            "[188 rows x 7 columns]\n"
          ]
        }
      ]
    },
    {
      "cell_type": "code",
      "source": [
        "# Guardar el DataFrame en un archivo Excel\n",
        "file_path = 'priorizados_satisfaccion.xlsx'\n",
        "final_filtered_data.to_excel(file_path, index=False)\n",
        "\n",
        "print(f\"DataFrame guardado en {file_path}\")"
      ],
      "metadata": {
        "colab": {
          "base_uri": "https://localhost:8080/"
        },
        "id": "M-dJV8sdwvBS",
        "outputId": "9bfe1faf-c236-450e-f854-5b8d99362a51"
      },
      "execution_count": 53,
      "outputs": [
        {
          "output_type": "stream",
          "name": "stdout",
          "text": [
            "DataFrame guardado en priorizados_satisfaccion.xlsx\n"
          ]
        }
      ]
    },
    {
      "cell_type": "code",
      "source": [
        "import pandas as pd\n",
        "import sqlite3\n",
        "\n",
        "# Supongamos que `filtered_data` ya está definido y contiene tu DataFrame\n",
        "\n",
        "# Selecciona las columnas deseadas\n",
        "final_dataset = filtered_data[['id_hogar', 'E1P0', 'IMI', 'IMI_C', 'IMI_SATIS_ID2', 'IMI_SATIS_ID3', 'IMI_SATIS_ID5']]\n",
        "\n",
        "# Conéctate a la base de datos SQLite\n",
        "conn = sqlite3.connect('priori_hogares.sqlite')\n",
        "\n",
        "# Carga el DataFrame en SQLite (creará una tabla llamada 'mi_tabla' si no existe)\n",
        "final_dataset.to_sql('satisfaccion', conn, if_exists='replace', index=False)\n",
        "\n",
        "# Cierra la conexión\n",
        "conn.close()"
      ],
      "metadata": {
        "id": "FpTSoMzMHtM6"
      },
      "execution_count": 35,
      "outputs": []
    },
    {
      "cell_type": "markdown",
      "source": [
        "## **Hogares caracterizados mercado laboral**"
      ],
      "metadata": {
        "id": "j8TQ3hTS7wYn"
      }
    },
    {
      "cell_type": "code",
      "source": [
        "import pandas as pd\n",
        "import numpy as np\n",
        "\n",
        "# Ruta del archivo de Excel\n",
        "file_path = '/content/BD Depurada.xlsx'\n",
        "\n",
        "# Nombre de la hoja que quieres cargar\n",
        "sheet_name = 'BD HOGARES'\n",
        "\n",
        "# Cargar el archivo de Excel y seleccionar la hoja\n",
        "df = pd.read_excel(file_path, sheet_name=sheet_name)\n",
        "\n",
        "# Filtrar los datos donde la columna IMI_C tenga el valor 'Bajo' o 'Aceptable'\n",
        "filtered_data = df[df['IMI_C'].isin(['Bajo', 'Aceptable'])].copy()\n",
        "\n",
        "# Seleccionar las columnas de interés\n",
        "selected_columns = ['id_hogar', 'E1P0', 'IMI', 'IMI_C', 'IMI_ML_TGP', 'PM_S_PRIV1']\n",
        "filtered_data = filtered_data[selected_columns]\n",
        "\n",
        "# Aplicar los filtros adicionales (usando OR)\n",
        "final_filtered_data = filtered_data[\n",
        "    (filtered_data['IMI_ML_TGP']  >= 0.5) &\n",
        "    (filtered_data['PM_S_PRIV1']  == 1)\n",
        "]\n",
        "\n",
        "# Mostrar el resultado\n",
        "print(final_filtered_data)"
      ],
      "metadata": {
        "colab": {
          "base_uri": "https://localhost:8080/"
        },
        "id": "gX7CCTyK8DKD",
        "outputId": "1d033a91-9d6f-4b60-f1a5-9ae6d2a29a40"
      },
      "execution_count": 54,
      "outputs": [
        {
          "output_type": "stream",
          "name": "stdout",
          "text": [
            "     id_hogar              E1P0       IMI      IMI_C  IMI_ML_TGP  PM_S_PRIV1\n",
            "11         56  Ciudadela de Paz  0.673300  Aceptable    1.000000           1\n",
            "12         58  Ciudadela de Paz  0.580939       Bajo    1.000000           1\n",
            "14         60  Ciudadela de Paz  0.534371       Bajo    1.000000           1\n",
            "42         95  Ciudadela de Paz  0.673602  Aceptable    0.500000           1\n",
            "49        102  Ciudadela de Paz  0.604988       Bajo    1.000000           1\n",
            "..        ...               ...       ...        ...         ...         ...\n",
            "814       922           La Loma  0.565124       Bajo    1.000000           1\n",
            "822       930  Ciudadela de Paz  0.582800       Bajo    0.666667           1\n",
            "826       934  Ciudadela de Paz  0.530448       Bajo    1.000000           1\n",
            "833       941  Ciudadela de Paz  0.578426       Bajo    0.500000           1\n",
            "839       947  Ciudadela de Paz  0.615688       Bajo    1.000000           1\n",
            "\n",
            "[126 rows x 6 columns]\n"
          ]
        }
      ]
    },
    {
      "cell_type": "code",
      "source": [
        "# Guardar el DataFrame en un archivo Excel\n",
        "file_path = 'priorizados_mercadolaboral.xlsx'\n",
        "final_filtered_data.to_excel(file_path, index=False)\n",
        "\n",
        "print(f\"DataFrame guardado en {file_path}\")"
      ],
      "metadata": {
        "colab": {
          "base_uri": "https://localhost:8080/"
        },
        "id": "vcyLeDt4HR0X",
        "outputId": "90f441ff-43b2-4757-d3fa-0d4182ddbe20"
      },
      "execution_count": 55,
      "outputs": [
        {
          "output_type": "stream",
          "name": "stdout",
          "text": [
            "DataFrame guardado en priorizados_mercadolaboral.xlsx\n"
          ]
        }
      ]
    },
    {
      "cell_type": "code",
      "source": [
        "import pandas as pd\n",
        "import sqlite3\n",
        "\n",
        "# Supongamos que `filtered_data` ya está definido y contiene tu DataFrame\n",
        "\n",
        "# Selecciona las columnas deseadas\n",
        "final_dataset = filtered_data[['id_hogar', 'E1P0', 'IMI', 'IMI_C', 'IMI_ML_TGP', 'PM_S_PRIV1']]\n",
        "\n",
        "# Conéctate a la base de datos SQLite\n",
        "conn = sqlite3.connect('priori_hogares.sqlite')\n",
        "\n",
        "# Carga el DataFrame en SQLite (creará una tabla llamada 'mi_tabla' si no existe)\n",
        "final_dataset.to_sql('mercadolaboral', conn, if_exists='replace', index=False)\n",
        "\n",
        "# Cierra la conexión\n",
        "conn.close()"
      ],
      "metadata": {
        "id": "MnAvB-M6IKel"
      },
      "execution_count": 37,
      "outputs": []
    },
    {
      "cell_type": "markdown",
      "source": [
        "## **Hogares caracterizados participación ciudadana**"
      ],
      "metadata": {
        "id": "bIPGSRU_IZih"
      }
    },
    {
      "cell_type": "code",
      "source": [
        "import pandas as pd\n",
        "import numpy as np\n",
        "\n",
        "# Ruta del archivo de Excel\n",
        "file_path = '/content/BD Depurada.xlsx'\n",
        "\n",
        "# Nombre de la hoja que quieres cargar\n",
        "sheet_name = 'BD HOGARES'\n",
        "\n",
        "# Cargar el archivo de Excel y seleccionar la hoja\n",
        "df = pd.read_excel(file_path, sheet_name=sheet_name)\n",
        "\n",
        "# Filtrar los datos donde la columna IMI_C tenga el valor 'Bajo' o 'Aceptable'\n",
        "filtered_data = df[df['IMI_C'].isin(['Bajo', 'Aceptable'])].copy()\n",
        "\n",
        "# Seleccionar las columnas de interés\n",
        "selected_columns = ['id_hogar', 'E1P0', 'IMI', 'IMI_C', 'IMI_SATIS_ID1']\n",
        "filtered_data = filtered_data[selected_columns]\n",
        "\n",
        "# Asegurarse de que la columna IMI_SATIS_ID1 sea numérica\n",
        "filtered_data['IMI_SATIS_ID1'] = pd.to_numeric(filtered_data['IMI_SATIS_ID1'], errors='coerce')\n",
        "\n",
        "# Aplicar los filtros adicionales (usando AND)\n",
        "final_filtered_data = filtered_data[\n",
        "    (filtered_data['IMI_SATIS_ID1'] >= 5) & (filtered_data['IMI_SATIS_ID1'] <= 8)\n",
        "]\n",
        "\n",
        "# Mostrar el resultado\n",
        "print(final_filtered_data)\n"
      ],
      "metadata": {
        "id": "s2l6j9KrIiCH",
        "colab": {
          "base_uri": "https://localhost:8080/"
        },
        "outputId": "52fce495-6f89-47ac-b5ec-49c2cd51a2f1"
      },
      "execution_count": 56,
      "outputs": [
        {
          "output_type": "stream",
          "name": "stdout",
          "text": [
            "     id_hogar              E1P0       IMI      IMI_C  IMI_SATIS_ID1\n",
            "9          54  Ciudadela de Paz  0.603453       Bajo       8.000000\n",
            "10         55  Ciudadela de Paz  0.674955  Aceptable       8.000000\n",
            "11         56  Ciudadela de Paz  0.673300  Aceptable       8.000000\n",
            "12         58  Ciudadela de Paz  0.580939       Bajo       7.333333\n",
            "14         60  Ciudadela de Paz  0.534371       Bajo       5.000000\n",
            "..        ...               ...       ...        ...            ...\n",
            "829       937  Ciudadela de Paz  0.555391       Bajo       6.000000\n",
            "830       938  Ciudadela de Paz  0.748917  Aceptable       7.000000\n",
            "832       940  Ciudadela de Paz  0.747511  Aceptable       7.000000\n",
            "843       951  Ciudadela de Paz  0.648839  Aceptable       5.000000\n",
            "846       955  Ciudadela de Paz  0.594297       Bajo       6.333333\n",
            "\n",
            "[377 rows x 5 columns]\n"
          ]
        }
      ]
    },
    {
      "cell_type": "code",
      "source": [
        "# Guardar el DataFrame en un archivo Excel\n",
        "file_path = 'priorizados_participacion_ciudadana.xlsx'\n",
        "final_filtered_data.to_excel(file_path, index=False)\n",
        "\n",
        "print(f\"DataFrame guardado en {file_path}\")"
      ],
      "metadata": {
        "colab": {
          "base_uri": "https://localhost:8080/"
        },
        "id": "pF2FIk3z9bHT",
        "outputId": "adfa68b1-d279-4e85-e42d-c3263379572e"
      },
      "execution_count": 57,
      "outputs": [
        {
          "output_type": "stream",
          "name": "stdout",
          "text": [
            "DataFrame guardado en priorizados_participacion_ciudadana.xlsx\n"
          ]
        }
      ]
    },
    {
      "cell_type": "code",
      "source": [
        "import pandas as pd\n",
        "import sqlite3\n",
        "\n",
        "# Supongamos que `filtered_data` ya está definido y contiene tu DataFrame\n",
        "\n",
        "# Selecciona las columnas deseadas\n",
        "final_dataset = filtered_data[['id_hogar', 'E1P0', 'IMI', 'IMI_C', 'IMI_SATIS_ID1']]\n",
        "\n",
        "# Conéctate a la base de datos SQLite\n",
        "conn = sqlite3.connect('priori_hogares.sqlite')\n",
        "\n",
        "# Carga el DataFrame en SQLite (creará una tabla llamada 'mi_tabla' si no existe)\n",
        "final_dataset.to_sql('participacion', conn, if_exists='replace', index=False)\n",
        "\n",
        "# Cierra la conexión\n",
        "conn.close()"
      ],
      "metadata": {
        "id": "WKaZtjL6JHh3"
      },
      "execution_count": 58,
      "outputs": []
    },
    {
      "cell_type": "markdown",
      "source": [
        "## **Cruces de bases caracterizadas**"
      ],
      "metadata": {
        "id": "AEMP69B5-p8K"
      }
    },
    {
      "cell_type": "code",
      "source": [
        "import pandas as pd\n",
        "import sqlite3\n",
        "\n",
        "# Conéctate a la base de datos SQLite\n",
        "conn = sqlite3.connect('priori_hogares.sqlite')\n",
        "\n",
        "# Realiza la consulta SQL con INNER JOIN\n",
        "query = \"\"\"\n",
        "SELECT\n",
        "    s.id_hogar,\n",
        "    s.E1P0,\n",
        "    s.IMI,\n",
        "    s.IMI_C\n",
        "FROM salud s\n",
        "INNER JOIN educacion e ON s.id_hogar = e.id_hogar\n",
        "INNER JOIN satisfaccion sat ON s.id_hogar = sat.id_hogar\n",
        "INNER JOIN mercadolaboral m ON s.id_hogar = m.id_hogar\n",
        "INNER JOIN ingresos i ON s.id_hogar = i.id_hogar\n",
        "INNER JOIN participacion p ON s.id_hogar = p.id_hogar\n",
        "\"\"\"\n",
        "\n",
        "# Ejecuta la consulta y carga los datos en un DataFrame\n",
        "final_df = pd.read_sql_query(query, conn)\n",
        "\n",
        "# Cierra la conexión\n",
        "conn.close()\n",
        "\n",
        "# Guarda el DataFrame en un archivo de Excel\n",
        "final_df.to_excel('final_dataset.xlsx', index=False)\n",
        "\n",
        "# Muestra el DataFrame final\n",
        "print(final_df)\n",
        "\n"
      ],
      "metadata": {
        "colab": {
          "base_uri": "https://localhost:8080/"
        },
        "id": "Fom6ZNNa-pDh",
        "outputId": "92893b0f-f211-4a52-dafd-97e1c679ef67"
      },
      "execution_count": 45,
      "outputs": [
        {
          "output_type": "stream",
          "name": "stdout",
          "text": [
            "     id_hogar              E1P0       IMI      IMI_C\n",
            "0          44  Ciudadela de Paz  0.676227  Aceptable\n",
            "1          45  Ciudadela de Paz  0.656121  Aceptable\n",
            "2          49  Ciudadela de Paz  0.685851  Aceptable\n",
            "3          51  Ciudadela de Paz  0.581145       Bajo\n",
            "4          52  Ciudadela de Paz  0.599255       Bajo\n",
            "..        ...               ...       ...        ...\n",
            "591       951  Ciudadela de Paz  0.648839  Aceptable\n",
            "592       953  Ciudadela de Paz  0.696839  Aceptable\n",
            "593       955  Ciudadela de Paz  0.594297       Bajo\n",
            "594       956  Ciudadela de Paz  0.660056  Aceptable\n",
            "595       957  Ciudadela de Paz  0.629553  Aceptable\n",
            "\n",
            "[596 rows x 4 columns]\n"
          ]
        }
      ]
    }
  ],
  "metadata": {
    "colab": {
      "provenance": []
    },
    "kernelspec": {
      "display_name": "Python 3",
      "name": "python3"
    },
    "language_info": {
      "name": "python"
    }
  },
  "nbformat": 4,
  "nbformat_minor": 0
}